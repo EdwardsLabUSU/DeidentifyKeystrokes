{
 "cells": [
  {
   "cell_type": "markdown",
   "id": "83395ca7",
   "metadata": {},
   "source": [
    "# This code prepares the 2019 data for release\n",
    "The students file should not require any further processing. If "
   ]
  },
  {
   "cell_type": "code",
   "execution_count": 1,
   "id": "7318d6be",
   "metadata": {},
   "outputs": [],
   "source": [
    "import pandas as pd"
   ]
  },
  {
   "cell_type": "markdown",
   "id": "fe3199b6",
   "metadata": {},
   "source": [
    "'p4':128,\n",
    "'p4':129,\n",
    "'p4':195,\n",
    "'p5':130,\n",
    "'p5':131,\n",
    "'p5':200,\n",
    "'p6':132,\n",
    "'p6':133,\n",
    "'p6':204,\n",
    "'p7':134,\n",
    "'p7':135,\n",
    "'p7':205,\n",
    "'p8':136,\n",
    "'p8':138,\n",
    "'p8':207\n",
    "\n",
    "\n",
    "128:'p4',\n",
    "129:'p4',\n",
    "195:'p4',\n",
    "130:'p5',\n",
    "131:'p5',\n",
    "200:'p5',\n",
    "132:'p6',\n",
    "133:'p6',\n",
    "204:'p6',\n",
    "134:'p7',\n",
    "135:'p7',\n",
    "205:'p7',\n",
    "136:'p8',\n",
    "138:'p8',\n",
    "207:'p8'\n",
    "\n",
    "{'project':'4', 'group':'control', 'fn':'../raw-data/2019/spring1400-1/events-p4-128.csv'},\n",
    "        {'project':'4', 'group':'control', 'fn':'../raw-data/2019/spring1400-3/events-p4-129.csv'},\n",
    "        {'project':'4', 'group':'test', 'fn':'../raw-data/2019/fall1400/events-p4-195.csv'},\n",
    "        {'project':'5', 'group':'control', 'fn':'../raw-data/2019/spring1400-1/events-p5-130.csv'},\n",
    "        {'project':'5', 'group':'control', 'fn':'../raw-data/2019/spring1400-3/events-p5-131.csv'},\n",
    "        {'project':'5', 'group':'test', 'fn':'../raw-data/2019/fall1400/events-p5-200.csv'},\n",
    "        {'project':'6', 'group':'control', 'fn':'../raw-data/2019/spring1400-1/events-p6-132.csv'},\n",
    "        {'project':'6', 'group':'control', 'fn':'../raw-data/2019/spring1400-3/events-p6-133.csv'},\n",
    "        {'project':'6', 'group':'test', 'fn':'../raw-data/2019/fall1400/events-p6-204.csv'},\n",
    "        {'project':'7', 'group':'control', 'fn':'../raw-data/2019/spring1400-1/events-p7-134.csv'},\n",
    "        {'project':'7', 'group':'control', 'fn':'../raw-data/2019/spring1400-3/events-p7-135.csv'},\n",
    "        {'project':'7', 'group':'test', 'fn':'../raw-data/2019/fall1400/events-p7-205.csv'},\n",
    "        {'project':'8', 'group':'control', 'fn':'../raw-data/2019/spring1400-1/events-p8-136.csv'},\n",
    "        {'project':'8', 'group':'control', 'fn':'../raw-data/2019/spring1400-3/events-p8-138.csv'},\n",
    "        {'project':'8', 'group':'test', 'fn':'../raw-data/2019/fall1400/events-p8-207.csv'},"
   ]
  },
  {
   "cell_type": "markdown",
   "id": "45b0457c",
   "metadata": {},
   "source": [
    "# Students file"
   ]
  },
  {
   "cell_type": "code",
   "execution_count": 10,
   "id": "7511227d",
   "metadata": {},
   "outputs": [],
   "source": [
    "students = pd.read_csv('data-2019/students-orig.csv')"
   ]
  },
  {
   "cell_type": "code",
   "execution_count": 11,
   "id": "390ec458",
   "metadata": {},
   "outputs": [],
   "source": [
    "students.columns\n",
    "students = students[['user_id', 'group', 'p4', 'p5', 'p6', 'p7', 'p8', 'exam1', 'exam2']].copy()\n"
   ]
  },
  {
   "cell_type": "code",
   "execution_count": 12,
   "id": "8cede72b",
   "metadata": {},
   "outputs": [],
   "source": [
    "students.columns = ['SubjectID', 'Group', 'p4', 'p5', 'p6', 'p7', 'p8', 'exam1', 'exam2']"
   ]
  },
  {
   "cell_type": "code",
   "execution_count": 24,
   "id": "cb1de109",
   "metadata": {},
   "outputs": [],
   "source": [
    "students.Group = students.Group.replace({'control':'Spring', 'test':'Fall'})\n",
    "students['SyntaxExercises'] = students.Group == 'Fall'\n",
    "students.SubjectID = 'S'+students.SubjectID.astype('str').str.slice(3)\n"
   ]
  },
  {
   "cell_type": "code",
   "execution_count": 27,
   "id": "05df5d9c",
   "metadata": {},
   "outputs": [],
   "source": [
    "students = students[['SubjectID', 'Group', 'SyntaxExercises', 'p4', 'p5', 'p6', 'p7', 'p8', 'exam1', 'exam2']]"
   ]
  },
  {
   "cell_type": "code",
   "execution_count": 29,
   "id": "da2af2ba",
   "metadata": {},
   "outputs": [],
   "source": [
    "students.to_csv('data-2019/students.csv')"
   ]
  },
  {
   "cell_type": "markdown",
   "id": "9ce168d3",
   "metadata": {},
   "source": [
    "# Keystrokes file"
   ]
  },
  {
   "cell_type": "code",
   "execution_count": null,
   "id": "e747cd65",
   "metadata": {
    "scrolled": true
   },
   "outputs": [],
   "source": [
    "df = pd.read_csv('data-2019/phanon2ps2-6.csv')"
   ]
  },
  {
   "cell_type": "code",
   "execution_count": 83,
   "id": "d3c44ed8",
   "metadata": {},
   "outputs": [],
   "source": [
    "keystrokes = df.copy()"
   ]
  },
  {
   "cell_type": "code",
   "execution_count": 84,
   "id": "3add98f0",
   "metadata": {},
   "outputs": [],
   "source": [
    "keystrokes.columns\n",
    "keystrokes = keystrokes[['EventID', 'SubjectID', 'AssignmentID', 'CodeStateSection', 'X-Task', 'EventType', 'key',\n",
    "       'InsertText', 'DeleteText',\n",
    "       'SourceLocation', 'ClientTimestamp', 'EditType', 'input','output', 'has_error', 'user_terminated']]"
   ]
  },
  {
   "cell_type": "code",
   "execution_count": 85,
   "id": "eeefb351",
   "metadata": {},
   "outputs": [],
   "source": [
    "keystrokes.columns = ['EventID', 'SubjectID', 'AssignmentID', 'CodeStateSection', 'X-Task', 'EventType', 'X-Keystroke',\n",
    "       'InsertText', 'DeleteText',\n",
    "       'SourceLocation', 'ClientTimestamp', 'EditType', 'X-RunInput','X-RunOutput', 'X-RunHasError', 'X-RunUserTerminated']"
   ]
  },
  {
   "cell_type": "code",
   "execution_count": 86,
   "id": "4513c449",
   "metadata": {
    "scrolled": true
   },
   "outputs": [
    {
     "data": {
      "text/html": [
       "<div>\n",
       "<style scoped>\n",
       "    .dataframe tbody tr th:only-of-type {\n",
       "        vertical-align: middle;\n",
       "    }\n",
       "\n",
       "    .dataframe tbody tr th {\n",
       "        vertical-align: top;\n",
       "    }\n",
       "\n",
       "    .dataframe thead th {\n",
       "        text-align: right;\n",
       "    }\n",
       "</style>\n",
       "<table border=\"1\" class=\"dataframe\">\n",
       "  <thead>\n",
       "    <tr style=\"text-align: right;\">\n",
       "      <th></th>\n",
       "      <th>EventID</th>\n",
       "      <th>SubjectID</th>\n",
       "      <th>AssignmentID</th>\n",
       "      <th>CodeStateSection</th>\n",
       "      <th>X-Task</th>\n",
       "      <th>EventType</th>\n",
       "      <th>X-Keystroke</th>\n",
       "      <th>InsertText</th>\n",
       "      <th>DeleteText</th>\n",
       "      <th>SourceLocation</th>\n",
       "      <th>ClientTimestamp</th>\n",
       "      <th>EditType</th>\n",
       "      <th>X-RunInput</th>\n",
       "      <th>X-RunOutput</th>\n",
       "      <th>X-RunHasError</th>\n",
       "      <th>X-RunUserTerminated</th>\n",
       "    </tr>\n",
       "  </thead>\n",
       "  <tbody>\n",
       "    <tr>\n",
       "      <th>0</th>\n",
       "      <td>0</td>\n",
       "      <td>100000</td>\n",
       "      <td>195</td>\n",
       "      <td>tasks.py</td>\n",
       "      <td>0</td>\n",
       "      <td>File.Edit</td>\n",
       "      <td>#</td>\n",
       "      <td>#</td>\n",
       "      <td>NaN</td>\n",
       "      <td>0.0</td>\n",
       "      <td>1568242704669</td>\n",
       "      <td>Insert</td>\n",
       "      <td>NaN</td>\n",
       "      <td>NaN</td>\n",
       "      <td>NaN</td>\n",
       "      <td>NaN</td>\n",
       "    </tr>\n",
       "    <tr>\n",
       "      <th>1</th>\n",
       "      <td>1</td>\n",
       "      <td>100000</td>\n",
       "      <td>195</td>\n",
       "      <td>tasks.py</td>\n",
       "      <td>0</td>\n",
       "      <td>File.Edit</td>\n",
       "      <td>space</td>\n",
       "      <td></td>\n",
       "      <td>NaN</td>\n",
       "      <td>1.0</td>\n",
       "      <td>1568242704830</td>\n",
       "      <td>Insert</td>\n",
       "      <td>NaN</td>\n",
       "      <td>NaN</td>\n",
       "      <td>NaN</td>\n",
       "      <td>NaN</td>\n",
       "    </tr>\n",
       "    <tr>\n",
       "      <th>2</th>\n",
       "      <td>2</td>\n",
       "      <td>100000</td>\n",
       "      <td>195</td>\n",
       "      <td>tasks.py</td>\n",
       "      <td>0</td>\n",
       "      <td>File.Edit</td>\n",
       "      <td>delete</td>\n",
       "      <td>NaN</td>\n",
       "      <td></td>\n",
       "      <td>1.0</td>\n",
       "      <td>1568242705198</td>\n",
       "      <td>Delete</td>\n",
       "      <td>NaN</td>\n",
       "      <td>NaN</td>\n",
       "      <td>NaN</td>\n",
       "      <td>NaN</td>\n",
       "    </tr>\n",
       "    <tr>\n",
       "      <th>3</th>\n",
       "      <td>3</td>\n",
       "      <td>100000</td>\n",
       "      <td>195</td>\n",
       "      <td>tasks.py</td>\n",
       "      <td>0</td>\n",
       "      <td>File.Edit</td>\n",
       "      <td>space</td>\n",
       "      <td></td>\n",
       "      <td>NaN</td>\n",
       "      <td>1.0</td>\n",
       "      <td>1568242705450</td>\n",
       "      <td>Insert</td>\n",
       "      <td>NaN</td>\n",
       "      <td>NaN</td>\n",
       "      <td>NaN</td>\n",
       "      <td>NaN</td>\n",
       "    </tr>\n",
       "    <tr>\n",
       "      <th>4</th>\n",
       "      <td>4</td>\n",
       "      <td>100000</td>\n",
       "      <td>195</td>\n",
       "      <td>tasks.py</td>\n",
       "      <td>0</td>\n",
       "      <td>File.Edit</td>\n",
       "      <td>J</td>\n",
       "      <td>@</td>\n",
       "      <td>NaN</td>\n",
       "      <td>2.0</td>\n",
       "      <td>1568242705692</td>\n",
       "      <td>Insert</td>\n",
       "      <td>NaN</td>\n",
       "      <td>NaN</td>\n",
       "      <td>NaN</td>\n",
       "      <td>NaN</td>\n",
       "    </tr>\n",
       "  </tbody>\n",
       "</table>\n",
       "</div>"
      ],
      "text/plain": [
       "   EventID  SubjectID  AssignmentID CodeStateSection  X-Task  EventType  \\\n",
       "0        0     100000           195         tasks.py       0  File.Edit   \n",
       "1        1     100000           195         tasks.py       0  File.Edit   \n",
       "2        2     100000           195         tasks.py       0  File.Edit   \n",
       "3        3     100000           195         tasks.py       0  File.Edit   \n",
       "4        4     100000           195         tasks.py       0  File.Edit   \n",
       "\n",
       "  X-Keystroke InsertText DeleteText  SourceLocation  ClientTimestamp EditType  \\\n",
       "0           #          #        NaN             0.0    1568242704669   Insert   \n",
       "1       space                   NaN             1.0    1568242704830   Insert   \n",
       "2      delete        NaN                        1.0    1568242705198   Delete   \n",
       "3       space                   NaN             1.0    1568242705450   Insert   \n",
       "4           J          @        NaN             2.0    1568242705692   Insert   \n",
       "\n",
       "  X-RunInput X-RunOutput X-RunHasError X-RunUserTerminated  \n",
       "0        NaN         NaN           NaN                 NaN  \n",
       "1        NaN         NaN           NaN                 NaN  \n",
       "2        NaN         NaN           NaN                 NaN  \n",
       "3        NaN         NaN           NaN                 NaN  \n",
       "4        NaN         NaN           NaN                 NaN  "
      ]
     },
     "execution_count": 86,
     "metadata": {},
     "output_type": "execute_result"
    }
   ],
   "source": [
    "keystrokes = keystrokes.sort_values(['SubjectID','ClientTimestamp','EventID'])\n",
    "keystrokes = keystrokes.reset_index()\n",
    "keystrokes = keystrokes.drop(['index','EventID'], axis='columns')\n",
    "keystrokes['EventID'] = keystrokes.index\n",
    "keystrokes = keystrokes[['EventID', 'SubjectID', 'AssignmentID', 'CodeStateSection', 'X-Task', 'EventType',\n",
    "       'X-Keystroke', 'InsertText', 'DeleteText', 'SourceLocation',\n",
    "       'ClientTimestamp', 'EditType', 'X-RunInput', 'X-RunOutput',\n",
    "       'X-RunHasError', 'X-RunUserTerminated']]\n",
    "keystrokes.head()"
   ]
  },
  {
   "cell_type": "code",
   "execution_count": 88,
   "id": "b8942911",
   "metadata": {},
   "outputs": [],
   "source": [
    "assn2assn = {128:'p4',129:'p4',195:'p4', 130:'p5',131:'p5',200:'p5',132:'p6',133:'p6',204:'p6',134:'p7',\n",
    "            135:'p7',205:'p7',136:'p8',138:'p8',207:'p8'}\n",
    "\n",
    "keystrokes.SubjectID = 'S'+keystrokes.SubjectID.astype('str').str.slice(3)\n",
    "keystrokes.AssignmentID = keystrokes.AssignmentID.replace(assn2assn)"
   ]
  },
  {
   "cell_type": "code",
   "execution_count": 98,
   "id": "f7a75345",
   "metadata": {},
   "outputs": [],
   "source": [
    "keystrokes.loc[keystrokes.EventType == '*compose', 'EditType'] = 'X-Compose'\n",
    "keystrokes.loc[keystrokes.EventType == '*compose', 'EventType'] = 'File.Edit'\n",
    "keystrokes[(keystrokes.SubjectID == 'S243')&(keystrokes.AssignmentID == 213)].to_csv('test.csv', index=False)"
   ]
  },
  {
   "cell_type": "markdown",
   "id": "db01e3f4",
   "metadata": {},
   "source": [
    "Split into programming assignments and survey assignment"
   ]
  },
  {
   "cell_type": "code",
   "execution_count": 99,
   "id": "bf23c2c4",
   "metadata": {},
   "outputs": [],
   "source": [
    "keystrokes_survey = keystrokes[keystrokes.AssignmentID == 213]\n",
    "keystrokes = keystrokes[keystrokes.AssignmentID != 213]\n",
    "# keystrokes_survey.AssignmentID.unique()\n",
    "# len(keystrokes_survey.AssignmentID)\n",
    "# keystrokes.AssignmentID.unique()\n",
    "# len(keystrokes.AssignmentID)\n"
   ]
  },
  {
   "cell_type": "code",
   "execution_count": 106,
   "id": "25a5422f",
   "metadata": {},
   "outputs": [],
   "source": [
    "keystrokes_survey.AssignmentID = 'Survey'\n",
    "keystrokes_survey.to_csv('data-2019/keystrokes-survey.csv')"
   ]
  },
  {
   "cell_type": "code",
   "execution_count": 105,
   "id": "7317e53b",
   "metadata": {},
   "outputs": [],
   "source": [
    "keystrokes.to_csv('data-2019/keystrokes.csv')"
   ]
  }
 ],
 "metadata": {
  "kernelspec": {
   "display_name": "Python 3 (ipykernel)",
   "language": "python",
   "name": "python3"
  },
  "language_info": {
   "codemirror_mode": {
    "name": "ipython",
    "version": 3
   },
   "file_extension": ".py",
   "mimetype": "text/x-python",
   "name": "python",
   "nbconvert_exporter": "python",
   "pygments_lexer": "ipython3",
   "version": "3.8.2"
  }
 },
 "nbformat": 4,
 "nbformat_minor": 5
}
