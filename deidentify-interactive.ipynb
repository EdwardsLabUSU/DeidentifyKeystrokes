{
 "cells": [
  {
   "cell_type": "code",
   "execution_count": 265,
   "id": "52d5cf3b",
   "metadata": {},
   "outputs": [],
   "source": [
    "import pandas as pd\n",
    "import numpy as np\n",
    "import re\n",
    "import time"
   ]
  },
  {
   "cell_type": "markdown",
   "id": "f25efe53",
   "metadata": {},
   "source": [
    "# Interactive deidentification"
   ]
  },
  {
   "cell_type": "code",
   "execution_count": null,
   "id": "9fd8a0f5",
   "metadata": {},
   "outputs": [],
   "source": [
    "from IPython.display import display\n",
    "import ipywidgets as widgets\n",
    "from IPython.core.display import HTML\n"
   ]
  },
  {
   "cell_type": "code",
   "execution_count": null,
   "id": "5426e9da",
   "metadata": {},
   "outputs": [],
   "source": [
    "def populate():\n",
    "    global masked\n",
    "    program, deleted_text,_,_,_ = reconstruct(masked)\n",
    "#     progTextWidget = widgets.Textarea(program + '\\n\\n**** Deleted ****\\n\\n' + deleted_text, layout=widgets.Layout(width='95%', height='350px'))\n",
    "    text = program + '\\n\\n******** Deleted ********\\n\\n' + deleted_text\n",
    "#     text = text + '\\n\\n'\n",
    "#     text = text + '****************************************************\\n'\n",
    "#     text = text + '****************************************************\\n'\n",
    "#     text = text + '****************************************************\\n'\n",
    "#     text = text + '****************************************************\\n'\n",
    "#     text = text + '****************************************************\\n'\n",
    "#     text = text + '\\n\\n'\n",
    "#     text = text + '** Inserts **\\n'\n",
    "#     text = text + ''.join(masked[(masked.EventType == ET_EDIT)&(masked.EditType == INSERT)].InsertText)\n",
    "#     text = text + '** Keystrokes **\\n'\n",
    "#     text = text + ''.join(masked[masked.EventType == ET_KEY].InsertText)\n",
    "    progTextWidget.value = text\n",
    "\n",
    "def undo_btn_eventhandler(obj):\n",
    "    global masked, stack\n",
    "    if len(stack) > 0:\n",
    "        masked = stack[-1]\n",
    "        stack = stack[:-1]\n",
    "        populate()\n",
    "        maskStringWidget.value = ''\n",
    "        \n",
    "def do_mask(text_to_replace):\n",
    "    global masked, stack\n",
    "#     maskStringWidget.value = to_replace\n",
    "    stack = stack + [masked]\n",
    "    masked = mask_df(masked, text_to_replace)\n",
    "    populate()\n",
    "    maskStringWidget.value = ''\n",
    "    \n",
    "def mask_btn_eventhandler(obj):\n",
    "    do_mask(maskStringWidget.value)\n",
    "#     global masked, stack\n",
    "#     stack = stack + [masked]\n",
    "#     text_to_replace = maskStringWidget.value\n",
    "#     masked = mask_df(masked, text_to_replace)\n",
    "#     populate()\n",
    "#     maskStringWidget.value = ''\n",
    "    \n",
    "\n",
    "# Undo button\n",
    "undo_btn = widgets.Button(description='Undo')\n",
    "undo_btn.on_click(undo_btn_eventhandler)\n",
    "display(undo_btn)\n",
    "\n",
    "# Mask button\n",
    "btn = widgets.Button(description='Mask')\n",
    "btn.on_click(mask_btn_eventhandler)\n",
    "display(btn)\n",
    "\n",
    "# Make text in program widget monospace\n",
    "display(HTML(\"<style>textarea, input { font-family: monospace; }</style>\"))\n",
    "\n",
    "# Mask string widget\n",
    "maskStringWidget = widgets.Text('', description=\"Mask string\")\n",
    "display(maskStringWidget)\n",
    "\n",
    "# Program text widget\n",
    "progTextWidget = widgets.Textarea(layout=widgets.Layout(width='95%', height='600px'))\n",
    "display(progTextWidget)\n",
    "\n",
    "def pp_interactive_mask(fn, first_name, last_name, assign_id):\n",
    "    global masked, stack\n",
    "    student_id = first_name+' '+last_name\n",
    "    df = pyphanon2progsnap2(fn, student_id, assign_id)\n",
    "    masked = df\n",
    "    stack = []\n",
    "    populate()\n",
    "\n",
    "    btn.disabled = True\n",
    "    do_mask(last_name)\n",
    "    do_mask(first_name)\n",
    "    do_mask(last_name.lower())\n",
    "    do_mask(first_name.lower())\n",
    "    do_mask(last_name.upper())\n",
    "    do_mask(first_name.upper())\n",
    "    btn.disabled = False\n",
    "    \n",
    "\n",
    "def syw_interactive_mask(fn, student_id, assign_id):\n",
    "    global masked, stack\n",
    "    # df = pd.read_csv('deident.csv')#, header=None)\n",
    "    df = showyourwork2progsnap2(fn, student_id, assign_id)\n",
    "#     df = pyphanon2progsnap2(fn, student_id, assign_id)\n",
    "    masked = df\n",
    "    stack = []\n",
    "    populate()\n"
   ]
  },
  {
   "cell_type": "code",
   "execution_count": null,
   "id": "e759faed",
   "metadata": {},
   "outputs": [],
   "source": [
    "syw_interactive_mask('data/deident.log', 'John Edwards', 'Assign1')\n"
   ]
  }
 ],
 "metadata": {
  "kernelspec": {
   "display_name": "Python 3 (ipykernel)",
   "language": "python",
   "name": "python3"
  },
  "language_info": {
   "codemirror_mode": {
    "name": "ipython",
    "version": 3
   },
   "file_extension": ".py",
   "mimetype": "text/x-python",
   "name": "python",
   "nbconvert_exporter": "python",
   "pygments_lexer": "ipython3",
   "version": "3.8.2"
  }
 },
 "nbformat": 4,
 "nbformat_minor": 5
}
